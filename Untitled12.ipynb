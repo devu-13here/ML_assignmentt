{
  "nbformat": 4,
  "nbformat_minor": 0,
  "metadata": {
    "colab": {
      "provenance": []
    },
    "kernelspec": {
      "name": "python3",
      "display_name": "Python 3"
    },
    "language_info": {
      "name": "python"
    }
  },
  "cells": [
    {
      "cell_type": "code",
      "execution_count": 1,
      "metadata": {
        "colab": {
          "base_uri": "https://localhost:8080/"
        },
        "id": "7ijuJoHmt2iJ",
        "outputId": "6533896e-b168-46ee-d6a8-a4c898021855"
      },
      "outputs": [
        {
          "output_type": "stream",
          "name": "stdout",
          "text": [
            "[1 2 3]\n"
          ]
        }
      ],
      "source": [
        "import numpy as np\n",
        "\n",
        "a = np.array([1, 2, 3])\n",
        "print(a)\n"
      ]
    },
    {
      "cell_type": "code",
      "source": [
        "revv_arr = a[::-1]\n",
        "print(revv_arr)"
      ],
      "metadata": {
        "colab": {
          "base_uri": "https://localhost:8080/"
        },
        "id": "1WLz0BDpvckz",
        "outputId": "c0cc3600-ec7c-4253-b4a3-9c0e2fca83e7"
      },
      "execution_count": 2,
      "outputs": [
        {
          "output_type": "stream",
          "name": "stdout",
          "text": [
            "[3 2 1]\n"
          ]
        }
      ]
    },
    {
      "cell_type": "code",
      "source": [
        "a1=np.array([[1,2,3],[2,4,5],[1,2,3]])\n",
        "flat_array=a1.flatten() #\n",
        "print(flat_array)\n",
        "print(a1)"
      ],
      "metadata": {
        "colab": {
          "base_uri": "https://localhost:8080/"
        },
        "id": "Llciwo9bv2nU",
        "outputId": "bfade578-03a8-49d9-d3b3-bb1f735b7e35"
      },
      "execution_count": 3,
      "outputs": [
        {
          "output_type": "stream",
          "name": "stdout",
          "text": [
            "[1 2 3 2 4 5 1 2 3]\n",
            "[[1 2 3]\n",
            " [2 4 5]\n",
            " [1 2 3]]\n"
          ]
        }
      ]
    },
    {
      "cell_type": "code",
      "source": [],
      "metadata": {
        "id": "WXlfyTpawcEy"
      },
      "execution_count": 3,
      "outputs": []
    },
    {
      "cell_type": "code",
      "source": [
        "a1=[1,2,3,4,5]\n",
        "b1=[2,3,4,5,6]\n",
        "#c1=a1+b1\n",
        "#print(c1)\n",
        "\n",
        "#c2=np.add(a1,b1)\n",
        "#print(c2)\n",
        "\n",
        "if (a1==b1):\n",
        "  print(\"True\")\n",
        "else:\n",
        "  print(\"False\")\n",
        "\n",
        "print(np.array_equal(a1,b1))"
      ],
      "metadata": {
        "colab": {
          "base_uri": "https://localhost:8080/"
        },
        "id": "6Ac5-K7hwnhu",
        "outputId": "b678c5a9-110c-4447-bf55-0a42f11548c5"
      },
      "execution_count": 4,
      "outputs": [
        {
          "output_type": "stream",
          "name": "stdout",
          "text": [
            "False\n",
            "False\n"
          ]
        }
      ]
    },
    {
      "cell_type": "code",
      "source": [
        "import numpy as np\n",
        "\n",
        "am = np.array([1, 2, 3, 4, 5, 1, 2, 1, 1, 0, 11, 1, 1, 1])\n",
        "\n",
        "most_frequent_value = np.bincount(am).argmax()\n",
        "least_frequent_value = np.bincount(am).argmin()\n",
        "\n",
        "print(\"Most frequent value:\", most_frequent_value)\n",
        "print(\"Least frequent value:\", least_frequent_value)\n",
        "\n",
        "most_freq = np.where(am == most_frequent_value)[0]\n",
        "least_freq = np.where(am == least_frequent_value)[0]\n",
        "\n",
        "print(\"Indices of most frequent value:\", most_freq)\n",
        "print(\"Indices of least frequent value:\", least_freq)\n"
      ],
      "metadata": {
        "colab": {
          "base_uri": "https://localhost:8080/"
        },
        "id": "5sm9mAs10OT_",
        "outputId": "73894282-4447-4cb2-8097-7ee1b4b9af43"
      },
      "execution_count": 14,
      "outputs": [
        {
          "output_type": "stream",
          "name": "stdout",
          "text": [
            "Most frequent value: 1\n",
            "Least frequent value: 6\n",
            "Indices of most frequent value: [ 0  5  7  8 11 12 13]\n",
            "Indices of least frequent value: []\n"
          ]
        }
      ]
    },
    {
      "cell_type": "code",
      "source": [
        "#i) #to find the most frequent ans=a least frequent value and give their index\n",
        "gfg=np.matrix('[4,1,9;12,3,1;4,5,6]')\n",
        "\n",
        "#sum of all elements\n",
        "print(np.sum(gfg))\n",
        "\n",
        "#sum of each column\n",
        "print(np.sum(gfg,axis=0))\n",
        "\n",
        "#sum of each row\n",
        "print(np.sum(gfg,axis=1))"
      ],
      "metadata": {
        "colab": {
          "base_uri": "https://localhost:8080/"
        },
        "id": "AiflCLb2xFqb",
        "outputId": "3c4f0e21-e2de-4de1-a567-5f5deb10e1fe"
      },
      "execution_count": 6,
      "outputs": [
        {
          "output_type": "stream",
          "name": "stdout",
          "text": [
            "45\n",
            "[[20  9 16]]\n",
            "[[14]\n",
            " [16]\n",
            " [15]]\n"
          ]
        }
      ]
    },
    {
      "cell_type": "code",
      "source": [
        "#f) for a matrix compute sum ,eigen values, eigen vectors, inverse,determinant\n",
        "n_array = np.array([[55,25,15],[30,44,2],[11,45,77]])\n",
        "print(\"Numpy Matrix is:\")\n",
        "print(n_array)\n",
        "det = np.linalg.det(n_array)\n",
        "print(\"\\nDeterminant of given 3*3 matrix:\")\n",
        "print(int(det))\n",
        "print(np.linalg.inv(n_array))\n",
        "print(np.linalg.matrix_rank(n_array))\n",
        "#print(np.linalg.eig(n_array))\n",
        "eigenvalues, eigenvectors = np.linalg.eig(n_array)\n",
        "print(\"Eigenvalues:\")\n",
        "print(eigenvalues)\n",
        "print(\"Eigenvectors:\")\n",
        "print(eigenvectors)"
      ],
      "metadata": {
        "colab": {
          "base_uri": "https://localhost:8080/"
        },
        "id": "mOmFST_71h5d",
        "outputId": "0e68ffcb-5656-44f6-c3a6-2c10cc394391"
      },
      "execution_count": 8,
      "outputs": [
        {
          "output_type": "stream",
          "name": "stdout",
          "text": [
            "Numpy Matrix is:\n",
            "[[55 25 15]\n",
            " [30 44  2]\n",
            " [11 45 77]]\n",
            "\n",
            "Determinant of given 3*3 matrix:\n",
            "137180\n",
            "[[ 0.02404141 -0.00911212 -0.00444671]\n",
            " [-0.01667882  0.02966905  0.0024785 ]\n",
            " [ 0.00631287 -0.01603732  0.01217379]]\n",
            "3\n",
            "Eigenvalues:\n",
            "[98.16835147 28.097044   49.73460452]\n",
            "Eigenvectors:\n",
            "[[ 0.4574917   0.34637121 -0.15017693]\n",
            " [ 0.28447814 -0.72784061 -0.4852124 ]\n",
            " [ 0.84248058  0.59184038  0.8614034 ]]\n"
          ]
        }
      ]
    },
    {
      "cell_type": "code",
      "source": [
        "#i)to multiply the matrices and also find covarience between matrices using numpy\n",
        "p=[[1,2],[3,4]]\n",
        "q=[[5,6],[7,8]]\n",
        "np.multiply(p,q)\n",
        "#to find covarience between matrices using numpy\n",
        "y = np.cov(p,q)\n",
        "print(y)\n",
        "#print(numpy.conv(p,q))"
      ],
      "metadata": {
        "id": "z9GCMrnd3ANT",
        "outputId": "d61f9553-62e2-4a7d-9cd0-e8bbd8549f79",
        "colab": {
          "base_uri": "https://localhost:8080/"
        }
      },
      "execution_count": 9,
      "outputs": [
        {
          "output_type": "stream",
          "name": "stdout",
          "text": [
            "[[0.5 0.5 0.5 0.5]\n",
            " [0.5 0.5 0.5 0.5]\n",
            " [0.5 0.5 0.5 0.5]\n",
            " [0.5 0.5 0.5 0.5]]\n"
          ]
        }
      ]
    },
    {
      "cell_type": "code",
      "source": [
        "s=np.array([[1,2,3],[4,5,6],[7,8,9]])\n",
        "print(s)"
      ],
      "metadata": {
        "id": "6pUHGRuE4dBj",
        "outputId": "9f0f2916-68fb-4492-81ef-a9c1346de85e",
        "colab": {
          "base_uri": "https://localhost:8080/"
        }
      },
      "execution_count": 17,
      "outputs": [
        {
          "output_type": "stream",
          "name": "stdout",
          "text": [
            "[[1 2 3]\n",
            " [4 5 6]\n",
            " [7 8 9]]\n"
          ]
        }
      ]
    },
    {
      "cell_type": "code",
      "source": [
        "#h) TO FIND INNER,OUTER AND CARTESIAN PRODUCT OF A MATRIX\n",
        "\n",
        "x = np.array([[2,3,4],[3,2,9]])\n",
        "y = np.array([[1,5,0],[5,10,3]])\n",
        "print(np.inner(x,y))\n",
        "print(np.outer(x,y))\n",
        "print(np.cross(x,y))\n",
        "print(np.cross(y,x))"
      ],
      "metadata": {
        "colab": {
          "base_uri": "https://localhost:8080/"
        },
        "id": "mcxy9mLM6lGt",
        "outputId": "b4fc8667-d956-4ca3-f35e-56dba1305f40"
      },
      "execution_count": 11,
      "outputs": [
        {
          "output_type": "stream",
          "name": "stdout",
          "text": [
            "[[17 52]\n",
            " [13 62]]\n",
            "[[ 2 10  0 10 20  6]\n",
            " [ 3 15  0 15 30  9]\n",
            " [ 4 20  0 20 40 12]\n",
            " [ 3 15  0 15 30  9]\n",
            " [ 2 10  0 10 20  6]\n",
            " [ 9 45  0 45 90 27]]\n",
            "[[-20   4   7]\n",
            " [-84  36  20]]\n",
            "[[ 20  -4  -7]\n",
            " [ 84 -36 -20]]\n"
          ]
        }
      ]
    },
    {
      "cell_type": "code",
      "source": [
        "#Q.2)"
      ],
      "metadata": {
        "id": "sB83lAvm75td"
      },
      "execution_count": 12,
      "outputs": []
    }
  ]
}