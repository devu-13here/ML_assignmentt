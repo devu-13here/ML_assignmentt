{
  "nbformat": 4,
  "nbformat_minor": 0,
  "metadata": {
    "colab": {
      "provenance": [],
      "authorship_tag": "ABX9TyMEwcNTa2eMpu2V/xftnt8F",
      "include_colab_link": true
    },
    "kernelspec": {
      "name": "python3",
      "display_name": "Python 3"
    },
    "language_info": {
      "name": "python"
    }
  },
  "cells": [
    {
      "cell_type": "markdown",
      "metadata": {
        "id": "view-in-github",
        "colab_type": "text"
      },
      "source": [
        "<a href=\"https://colab.research.google.com/github/devu-13here/ML_assignmentt/blob/main/Untitled12.ipynb\" target=\"_parent\"><img src=\"https://colab.research.google.com/assets/colab-badge.svg\" alt=\"Open In Colab\"/></a>"
      ]
    },
    {
      "cell_type": "code",
      "execution_count": 60,
      "metadata": {
        "colab": {
          "base_uri": "https://localhost:8080/"
        },
        "id": "7ijuJoHmt2iJ",
        "outputId": "1797f23b-67f6-4ea0-c57f-8fb27bd396d1"
      },
      "outputs": [
        {
          "output_type": "stream",
          "name": "stdout",
          "text": [
            "[1 2 3]\n"
          ]
        }
      ],
      "source": [
        "import numpy as np\n",
        "\n",
        "a = np.array([1, 2, 3])\n",
        "print(a)\n"
      ]
    },
    {
      "cell_type": "code",
      "source": [
        "revv_arr = a[::-1]\n",
        "print(revv_arr)"
      ],
      "metadata": {
        "colab": {
          "base_uri": "https://localhost:8080/"
        },
        "id": "1WLz0BDpvckz",
        "outputId": "aa54839a-817b-4be1-b8a5-92da56c56795"
      },
      "execution_count": 61,
      "outputs": [
        {
          "output_type": "stream",
          "name": "stdout",
          "text": [
            "[3 2 1]\n"
          ]
        }
      ]
    },
    {
      "cell_type": "code",
      "source": [
        "a1=np.array([[1,2,3],[2,4,5],[1,2,3]])\n",
        "flat_array=a1.flatten() #\n",
        "print(flat_array)\n",
        "print(a1)"
      ],
      "metadata": {
        "colab": {
          "base_uri": "https://localhost:8080/"
        },
        "id": "Llciwo9bv2nU",
        "outputId": "ca9ffe31-ebaf-42bb-94bc-cd2413b04297"
      },
      "execution_count": 62,
      "outputs": [
        {
          "output_type": "stream",
          "name": "stdout",
          "text": [
            "[1 2 3 2 4 5 1 2 3]\n",
            "[[1 2 3]\n",
            " [2 4 5]\n",
            " [1 2 3]]\n"
          ]
        }
      ]
    },
    {
      "cell_type": "code",
      "source": [],
      "metadata": {
        "id": "WXlfyTpawcEy"
      },
      "execution_count": 62,
      "outputs": []
    },
    {
      "cell_type": "code",
      "source": [
        "a1=[1,2,3,4,5]\n",
        "b1=[2,3,4,5,6]\n",
        "#c1=a1+b1\n",
        "#print(c1)\n",
        "\n",
        "#c2=np.add(a1,b1)\n",
        "#print(c2)\n",
        "\n",
        "if (a1==b1):\n",
        "  print(\"True\")\n",
        "else:\n",
        "  print(\"False\")\n",
        "\n",
        "print(np.array_equal(a1,b1))"
      ],
      "metadata": {
        "colab": {
          "base_uri": "https://localhost:8080/"
        },
        "id": "6Ac5-K7hwnhu",
        "outputId": "a5c2cc7c-90e1-46f4-ce95-347c08b64895"
      },
      "execution_count": 63,
      "outputs": [
        {
          "output_type": "stream",
          "name": "stdout",
          "text": [
            "False\n",
            "False\n"
          ]
        }
      ]
    },
    {
      "cell_type": "code",
      "source": [
        "# i) to find the most frequent and the least frequent\n",
        "am =  np.array([1,2,3,4,5,1,2,1,1,0,11,1,1,1])\n",
        "c = np.bincount(am).argmax()\n",
        "#np.bincount(am).argmin()\n",
        "print(np.bincount(am).argmax())\n",
        "  #print(np.bincount(am).argmax())\n",
        "print(np.bincount(am).argmin())\n",
        "most_frequent_value= np.bincount(am).argmax()\n",
        "least_frequent_value= np.bincount(am).argmin()\n",
        "print(most_frequent_value)\n",
        "print(least_frequent_value)\n",
        "most_freq=np.where(arr == most_freq)[0]\n",
        "print(most_freq)\n",
        "least_freq=np.where(arr == least_freq)[0]\n",
        "print(least_freq"
      ],
      "metadata": {
        "colab": {
          "base_uri": "https://localhost:8080/",
          "height": 106
        },
        "id": "5sm9mAs10OT_",
        "outputId": "43e03672-39f7-4e8d-a0a9-1494abb778db"
      },
      "execution_count": 65,
      "outputs": [
        {
          "output_type": "error",
          "ename": "SyntaxError",
          "evalue": "incomplete input (<ipython-input-65-4bb35359f874>, line 15)",
          "traceback": [
            "\u001b[0;36m  File \u001b[0;32m\"<ipython-input-65-4bb35359f874>\"\u001b[0;36m, line \u001b[0;32m15\u001b[0m\n\u001b[0;31m    print(least_freq\u001b[0m\n\u001b[0m                    ^\u001b[0m\n\u001b[0;31mSyntaxError\u001b[0m\u001b[0;31m:\u001b[0m incomplete input\n"
          ]
        }
      ]
    },
    {
      "cell_type": "code",
      "source": [
        "#i) #to find the most frequent ans=a least frequent value and give their index\n",
        "gfg=np.matrix('[4,1,9;12,3,1;4,5,6]')\n",
        "\n",
        "#sum of all elements\n",
        "print(np.sum(gfg))\n",
        "\n",
        "#sum of each column\n",
        "print(np.sum(gfg,axis=0))\n",
        "\n",
        "#sum of each row\n",
        "print(np.sum(gfg,axis=1))"
      ],
      "metadata": {
        "colab": {
          "base_uri": "https://localhost:8080/"
        },
        "id": "AiflCLb2xFqb",
        "outputId": "319cf3a6-3dff-4377-dc01-6d81aa78f672"
      },
      "execution_count": 66,
      "outputs": [
        {
          "output_type": "stream",
          "name": "stdout",
          "text": [
            "45\n",
            "[[20  9 16]]\n",
            "[[14]\n",
            " [16]\n",
            " [15]]\n"
          ]
        }
      ]
    },
    {
      "cell_type": "code",
      "source": [
        "#f) for a matrix compute sum ,eigen values, eigen vectors, inverse,determinant\n",
        "n_array = np.array([[55,25,15],[30,44,2],[11,45,77]])\n",
        "print(\"Numpy Matrix is:\")\n",
        "print(n_array)\n",
        "det = np.linalg.det(n_array)\n",
        "print(\"\\nDeterminant of given 3*3 matrix:\")\n",
        "print(int(det))\n",
        "print(np.linalg.inv(n_array))\n",
        "print(np.linalg.matrix_rank(n_array))\n",
        "#print(np.linalg.eig(n_array))\n",
        "eigenvalues, eigenvectors = np.linalg.eig(n_array)\n",
        "print(\"Eigenvalues:\")\n",
        "print(eigenvalues)\n",
        "print(\"Eigenvectors:\")\n",
        "print(eigenvectors)"
      ],
      "metadata": {
        "colab": {
          "base_uri": "https://localhost:8080/"
        },
        "id": "mOmFST_71h5d",
        "outputId": "68980176-ec3f-4474-e030-04fe0a7c80d3"
      },
      "execution_count": 69,
      "outputs": [
        {
          "output_type": "stream",
          "name": "stdout",
          "text": [
            "Numpy Matrix is:\n",
            "[[55 25 15]\n",
            " [30 44  2]\n",
            " [11 45 77]]\n",
            "\n",
            "Determinant of given 3*3 matrix:\n",
            "137180\n",
            "[[ 0.02404141 -0.00911212 -0.00444671]\n",
            " [-0.01667882  0.02966905  0.0024785 ]\n",
            " [ 0.00631287 -0.01603732  0.01217379]]\n",
            "3\n",
            "EigResult(eigenvalues=array([98.16835147, 28.097044  , 49.73460452]), eigenvectors=array([[ 0.4574917 ,  0.34637121, -0.15017693],\n",
            "       [ 0.28447814, -0.72784061, -0.4852124 ],\n",
            "       [ 0.84248058,  0.59184038,  0.8614034 ]]))\n",
            "Eigenvalues:\n",
            "[98.16835147 28.097044   49.73460452]\n",
            "Eigenvectors:\n",
            "[[ 0.4574917   0.34637121 -0.15017693]\n",
            " [ 0.28447814 -0.72784061 -0.4852124 ]\n",
            " [ 0.84248058  0.59184038  0.8614034 ]]\n"
          ]
        }
      ]
    },
    {
      "cell_type": "code",
      "source": [
        "#i)to multiply the matrices and also find covarience between matrices using numpy\n",
        "p=[[1,2],[3,4]]\n",
        "q=[[5,6],[7,8]]\n",
        "np.multiply(p,q)\n",
        "#to find covarience between matrices using numpy\n",
        "y = np.cov(p,q)\n",
        "print(y)\n",
        "#print(numpy.conv(p,q))"
      ],
      "metadata": {
        "id": "z9GCMrnd3ANT"
      },
      "execution_count": null,
      "outputs": []
    },
    {
      "cell_type": "code",
      "source": [
        "p=[[1,2],[2,3],[4,5]]\n",
        "q=[[1,2,3],[4,5,6]]\n",
        "np.multiply(p,q)\n",
        "y= np.conv(p,q)\n",
        "print(y)"
      ],
      "metadata": {
        "id": "S4U9hfrL6DBN"
      },
      "execution_count": null,
      "outputs": []
    },
    {
      "cell_type": "code",
      "source": [
        "s=np.array([[1,2,3],[4,5,6],[7,8,9]])\n",
        "print(s)"
      ],
      "metadata": {
        "id": "6pUHGRuE4dBj"
      },
      "execution_count": null,
      "outputs": []
    },
    {
      "cell_type": "code",
      "source": [
        "#h) TO FIND INNER,OUTER AND CARTESIAN PRODUCT OF A MATRIX\n",
        "\n",
        "x = np.array([[2,3,4],[3,2,9]])\n",
        "y = np.array([[1,5,0],[5,10,3]])\n",
        "print(np.inner(x,y))\n",
        "print(np.outer(x,y))\n",
        "print(np.cross(x,y))\n",
        "print(np.cross(y,x))"
      ],
      "metadata": {
        "colab": {
          "base_uri": "https://localhost:8080/"
        },
        "id": "mcxy9mLM6lGt",
        "outputId": "4f2c226e-a237-4bc3-f0f8-ee2425c58867"
      },
      "execution_count": 68,
      "outputs": [
        {
          "output_type": "stream",
          "name": "stdout",
          "text": [
            "[[17 52]\n",
            " [13 62]]\n",
            "[[ 2 10  0 10 20  6]\n",
            " [ 3 15  0 15 30  9]\n",
            " [ 4 20  0 20 40 12]\n",
            " [ 3 15  0 15 30  9]\n",
            " [ 2 10  0 10 20  6]\n",
            " [ 9 45  0 45 90 27]]\n",
            "[[-20   4   7]\n",
            " [-84  36  20]]\n",
            "[[ 20  -4  -7]\n",
            " [ 84 -36 -20]]\n"
          ]
        }
      ]
    },
    {
      "cell_type": "code",
      "source": [
        "#Q.2)"
      ],
      "metadata": {
        "id": "sB83lAvm75td"
      },
      "execution_count": null,
      "outputs": []
    }
  ]
}