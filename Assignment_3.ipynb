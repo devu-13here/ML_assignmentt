{
  "nbformat": 4,
  "nbformat_minor": 0,
  "metadata": {
    "colab": {
      "provenance": [],
      "authorship_tag": "ABX9TyO/mz0EzbuAlW+GpXgFTMCK",
      "include_colab_link": true
    },
    "kernelspec": {
      "name": "python3",
      "display_name": "Python 3"
    },
    "language_info": {
      "name": "python"
    }
  },
  "cells": [
    {
      "cell_type": "markdown",
      "metadata": {
        "id": "view-in-github",
        "colab_type": "text"
      },
      "source": [
        "<a href=\"https://colab.research.google.com/github/devu-13here/ML_assignmentt/blob/main/Assignment_3.ipynb\" target=\"_parent\"><img src=\"https://colab.research.google.com/assets/colab-badge.svg\" alt=\"Open In Colab\"/></a>"
      ]
    },
    {
      "cell_type": "code",
      "execution_count": null,
      "metadata": {
        "colab": {
          "base_uri": "https://localhost:8080/"
        },
        "id": "-mnNmFuc1l9w",
        "outputId": "35bce352-58e1-42b5-cdde-48c47de08ce5"
      },
      "outputs": [
        {
          "output_type": "stream",
          "name": "stdout",
          "text": [
            "   CustomerID Title FirstName MiddleName  LastName Suffix  \\\n",
            "0       21173   NaN      Chad          C      Yuan    NaN   \n",
            "1       13249   NaN      Ryan        NaN     Perry    NaN   \n",
            "2       29350   NaN     Julia        NaN  Thompson    NaN   \n",
            "3       13503   NaN  Theodore        NaN     Gomez    NaN   \n",
            "4       22803   NaN  Marshall          J      Shan    NaN   \n",
            "\n",
            "             AddressLine1 AddressLine2         City    StateProvinceName  ...  \\\n",
            "0      7090 C. Mount Hood          NaN   Wollongong      New South Wales  ...   \n",
            "1     3651 Willow Lake Rd          NaN      Shawnee     British Columbia  ...   \n",
            "2  1774 Tice Valley Blvd.          NaN  West Covina           California  ...   \n",
            "3         2103 Baldwin Dr          NaN    Liverpool              England  ...   \n",
            "4         Am Gallberg 234          NaN        Werne  Nordrhein-Westfalen  ...   \n",
            "\n",
            "         Education      Occupation Gender MaritalStatus HomeOwnerFlag  \\\n",
            "0        Bachelors        Clerical      M             M             1   \n",
            "1  Partial College        Clerical      M             M             1   \n",
            "2        Bachelors        Clerical      F             S             0   \n",
            "3  Partial College  Skilled Manual      M             M             1   \n",
            "4  Partial College  Skilled Manual      M             S             1   \n",
            "\n",
            "  NumberCarsOwned NumberChildrenAtHome TotalChildren  YearlyIncome  \\\n",
            "0               3                    0             1         81916   \n",
            "1               2                    1             2         81076   \n",
            "2               3                    0             0         86387   \n",
            "3               2                    1             2         61481   \n",
            "4               1                    0             0         51804   \n",
            "\n",
            "   LastUpdated  \n",
            "0   2017-03-06  \n",
            "1   2017-03-06  \n",
            "2   2017-03-06  \n",
            "3   2017-03-06  \n",
            "4   2017-03-06  \n",
            "\n",
            "[5 rows x 24 columns]\n"
          ]
        }
      ],
      "source": [
        "import pandas as pd\n",
        "\n",
        "# Assuming 'filename.csv' is the name of your file\n",
        "df = pd.read_csv('AWCustomers.csv')\n",
        "print(df.head())  # To display the first few rows\n"
      ]
    },
    {
      "cell_type": "code",
      "source": [
        "print(df.head())"
      ],
      "metadata": {
        "colab": {
          "base_uri": "https://localhost:8080/"
        },
        "id": "QtMSuo7T3H6J",
        "outputId": "267369b2-0f3c-4ae1-d245-124b62e28d0b"
      },
      "execution_count": null,
      "outputs": [
        {
          "output_type": "stream",
          "name": "stdout",
          "text": [
            "   CustomerID Title FirstName MiddleName  LastName Suffix  \\\n",
            "0       21173   NaN      Chad          C      Yuan    NaN   \n",
            "1       13249   NaN      Ryan        NaN     Perry    NaN   \n",
            "2       29350   NaN     Julia        NaN  Thompson    NaN   \n",
            "3       13503   NaN  Theodore        NaN     Gomez    NaN   \n",
            "4       22803   NaN  Marshall          J      Shan    NaN   \n",
            "\n",
            "             AddressLine1 AddressLine2         City    StateProvinceName  ...  \\\n",
            "0      7090 C. Mount Hood          NaN   Wollongong      New South Wales  ...   \n",
            "1     3651 Willow Lake Rd          NaN      Shawnee     British Columbia  ...   \n",
            "2  1774 Tice Valley Blvd.          NaN  West Covina           California  ...   \n",
            "3         2103 Baldwin Dr          NaN    Liverpool              England  ...   \n",
            "4         Am Gallberg 234          NaN        Werne  Nordrhein-Westfalen  ...   \n",
            "\n",
            "         Education      Occupation Gender MaritalStatus HomeOwnerFlag  \\\n",
            "0        Bachelors        Clerical      M             M             1   \n",
            "1  Partial College        Clerical      M             M             1   \n",
            "2        Bachelors        Clerical      F             S             0   \n",
            "3  Partial College  Skilled Manual      M             M             1   \n",
            "4  Partial College  Skilled Manual      M             S             1   \n",
            "\n",
            "  NumberCarsOwned NumberChildrenAtHome TotalChildren  YearlyIncome  \\\n",
            "0               3                    0             1         81916   \n",
            "1               2                    1             2         81076   \n",
            "2               3                    0             0         86387   \n",
            "3               2                    1             2         61481   \n",
            "4               1                    0             0         51804   \n",
            "\n",
            "   LastUpdated  \n",
            "0   2017-03-06  \n",
            "1   2017-03-06  \n",
            "2   2017-03-06  \n",
            "3   2017-03-06  \n",
            "4   2017-03-06  \n",
            "\n",
            "[5 rows x 24 columns]\n"
          ]
        }
      ]
    },
    {
      "cell_type": "code",
      "source": [
        "print(df.info())\n",
        "print(df.describe())\n"
      ],
      "metadata": {
        "colab": {
          "base_uri": "https://localhost:8080/"
        },
        "id": "FcOY1Fs43KJy",
        "outputId": "25616aec-ffcc-4f1e-8eb3-235c693ae6ea"
      },
      "execution_count": null,
      "outputs": [
        {
          "output_type": "stream",
          "name": "stdout",
          "text": [
            "<class 'pandas.core.frame.DataFrame'>\n",
            "RangeIndex: 18361 entries, 0 to 18360\n",
            "Data columns (total 24 columns):\n",
            " #   Column                Non-Null Count  Dtype \n",
            "---  ------                --------------  ----- \n",
            " 0   CustomerID            18361 non-null  int64 \n",
            " 1   Title                 101 non-null    object\n",
            " 2   FirstName             18361 non-null  object\n",
            " 3   MiddleName            10572 non-null  object\n",
            " 4   LastName              18361 non-null  object\n",
            " 5   Suffix                3 non-null      object\n",
            " 6   AddressLine1          18361 non-null  object\n",
            " 7   AddressLine2          311 non-null    object\n",
            " 8   City                  18361 non-null  object\n",
            " 9   StateProvinceName     18361 non-null  object\n",
            " 10  CountryRegionName     18361 non-null  object\n",
            " 11  PostalCode            18361 non-null  object\n",
            " 12  PhoneNumber           18361 non-null  object\n",
            " 13  BirthDate             18361 non-null  object\n",
            " 14  Education             18361 non-null  object\n",
            " 15  Occupation            18361 non-null  object\n",
            " 16  Gender                18361 non-null  object\n",
            " 17  MaritalStatus         18361 non-null  object\n",
            " 18  HomeOwnerFlag         18361 non-null  int64 \n",
            " 19  NumberCarsOwned       18361 non-null  int64 \n",
            " 20  NumberChildrenAtHome  18361 non-null  int64 \n",
            " 21  TotalChildren         18361 non-null  int64 \n",
            " 22  YearlyIncome          18361 non-null  int64 \n",
            " 23  LastUpdated           18361 non-null  object\n",
            "dtypes: int64(6), object(18)\n",
            "memory usage: 3.4+ MB\n",
            "None\n",
            "         CustomerID  HomeOwnerFlag  NumberCarsOwned  NumberChildrenAtHome  \\\n",
            "count  18361.000000   18361.000000     18361.000000          18361.000000   \n",
            "mean   20241.987092       0.610588         1.270301              0.338162   \n",
            "std     5336.332731       0.487630         0.913989              0.568957   \n",
            "min    11000.000000       0.000000         0.000000              0.000000   \n",
            "25%    15621.000000       0.000000         1.000000              0.000000   \n",
            "50%    20248.000000       1.000000         1.000000              0.000000   \n",
            "75%    24863.000000       1.000000         2.000000              1.000000   \n",
            "max    29483.000000       1.000000         5.000000              3.000000   \n",
            "\n",
            "       TotalChildren   YearlyIncome  \n",
            "count   18361.000000   18361.000000  \n",
            "mean        0.850389   72754.779642  \n",
            "std         0.927315   30686.014313  \n",
            "min         0.000000   25435.000000  \n",
            "25%         0.000000   53312.000000  \n",
            "50%         0.000000   61851.000000  \n",
            "75%         2.000000   87410.000000  \n",
            "max         3.000000  139115.000000  \n"
          ]
        }
      ]
    },
    {
      "cell_type": "code",
      "source": [
        "#df['column_name'].fillna(df['column_name'].mean(), inplace=True)\n"
      ],
      "metadata": {
        "id": "lGvW13oL3XjG"
      },
      "execution_count": null,
      "outputs": []
    },
    {
      "cell_type": "code",
      "source": [
        "df.dropna(inplace=True)\n"
      ],
      "metadata": {
        "id": "3usJW3TT3oHm"
      },
      "execution_count": null,
      "outputs": []
    },
    {
      "cell_type": "code",
      "source": [
        "print(df.describe())"
      ],
      "metadata": {
        "colab": {
          "base_uri": "https://localhost:8080/"
        },
        "id": "jMqS7Q6p3rnd",
        "outputId": "2c1d313c-6942-44c2-98d9-d0a94699cc4c"
      },
      "execution_count": null,
      "outputs": [
        {
          "output_type": "stream",
          "name": "stdout",
          "text": [
            "       CustomerID  HomeOwnerFlag  NumberCarsOwned  NumberChildrenAtHome  \\\n",
            "count         0.0            0.0              0.0                   0.0   \n",
            "mean          NaN            NaN              NaN                   NaN   \n",
            "std           NaN            NaN              NaN                   NaN   \n",
            "min           NaN            NaN              NaN                   NaN   \n",
            "25%           NaN            NaN              NaN                   NaN   \n",
            "50%           NaN            NaN              NaN                   NaN   \n",
            "75%           NaN            NaN              NaN                   NaN   \n",
            "max           NaN            NaN              NaN                   NaN   \n",
            "\n",
            "       TotalChildren  YearlyIncome  \n",
            "count            0.0           0.0  \n",
            "mean             NaN           NaN  \n",
            "std              NaN           NaN  \n",
            "min              NaN           NaN  \n",
            "25%              NaN           NaN  \n",
            "50%              NaN           NaN  \n",
            "75%              NaN           NaN  \n",
            "max              NaN           NaN  \n"
          ]
        }
      ]
    },
    {
      "cell_type": "code",
      "source": [
        "print(\"Null values in each column:\\n\", df.isnull().sum())"
      ],
      "metadata": {
        "colab": {
          "base_uri": "https://localhost:8080/"
        },
        "id": "gs_tNLBA5Ywt",
        "outputId": "8deb3c6a-95e9-4dbf-d2ae-0e50d27df151"
      },
      "execution_count": null,
      "outputs": [
        {
          "output_type": "stream",
          "name": "stdout",
          "text": [
            "Null values in each column:\n",
            " CustomerID              0\n",
            "Title                   0\n",
            "FirstName               0\n",
            "MiddleName              0\n",
            "LastName                0\n",
            "Suffix                  0\n",
            "AddressLine1            0\n",
            "AddressLine2            0\n",
            "City                    0\n",
            "StateProvinceName       0\n",
            "CountryRegionName       0\n",
            "PostalCode              0\n",
            "PhoneNumber             0\n",
            "BirthDate               0\n",
            "Education               0\n",
            "Occupation              0\n",
            "Gender                  0\n",
            "MaritalStatus           0\n",
            "HomeOwnerFlag           0\n",
            "NumberCarsOwned         0\n",
            "NumberChildrenAtHome    0\n",
            "TotalChildren           0\n",
            "YearlyIncome            0\n",
            "LastUpdated             0\n",
            "dtype: int64\n"
          ]
        }
      ]
    },
    {
      "cell_type": "code",
      "source": [
        "# Check for null values in each column\n",
        "print(df.isnull().mean())\n",
        "\n",
        "# Replace null values in each column with the column's mean\n",
        "df.fillna(df.mean(), inplace=True)\n"
      ],
      "metadata": {
        "colab": {
          "base_uri": "https://localhost:8080/"
        },
        "id": "gVIA6z1F6CZQ",
        "outputId": "47a2c883-a779-4c34-f603-5ffeb3f8f12d"
      },
      "execution_count": null,
      "outputs": [
        {
          "output_type": "stream",
          "name": "stdout",
          "text": [
            "CustomerID             NaN\n",
            "Title                  NaN\n",
            "FirstName              NaN\n",
            "MiddleName             NaN\n",
            "LastName               NaN\n",
            "Suffix                 NaN\n",
            "AddressLine1           NaN\n",
            "AddressLine2           NaN\n",
            "City                   NaN\n",
            "StateProvinceName      NaN\n",
            "CountryRegionName      NaN\n",
            "PostalCode             NaN\n",
            "PhoneNumber            NaN\n",
            "BirthDate              NaN\n",
            "Education              NaN\n",
            "Occupation             NaN\n",
            "Gender                 NaN\n",
            "MaritalStatus          NaN\n",
            "HomeOwnerFlag          NaN\n",
            "NumberCarsOwned        NaN\n",
            "NumberChildrenAtHome   NaN\n",
            "TotalChildren          NaN\n",
            "YearlyIncome           NaN\n",
            "LastUpdated            NaN\n",
            "dtype: float64\n"
          ]
        }
      ]
    },
    {
      "cell_type": "code",
      "source": [
        "selected_columns = [\n",
        "    'BirthDate', 'Education', 'Occupation', 'Gender', 'MaritalStatus',\n",
        "    'HomeOwnerFlag', 'NumberCarsOwned', 'NumberChildrenAtHome',\n",
        "    'TotalChildren', 'YearlyIncome'\n",
        "]\n"
      ],
      "metadata": {
        "id": "YNwYbvRK9s-Q"
      },
      "execution_count": null,
      "outputs": []
    },
    {
      "cell_type": "code",
      "source": [
        "df_selected = df[selected_columns]\n"
      ],
      "metadata": {
        "id": "IUtmlJLJ-QRX"
      },
      "execution_count": null,
      "outputs": []
    },
    {
      "cell_type": "code",
      "source": [
        "print(df_selected.head())\n"
      ],
      "metadata": {
        "colab": {
          "base_uri": "https://localhost:8080/"
        },
        "id": "voBmn2qJ-TL1",
        "outputId": "7adf49e4-0f4d-49a5-e1c1-af6bc07db4e9"
      },
      "execution_count": null,
      "outputs": [
        {
          "output_type": "stream",
          "name": "stdout",
          "text": [
            "Empty DataFrame\n",
            "Columns: [BirthDate, Education, Occupation, Gender, MaritalStatus, HomeOwnerFlag, NumberCarsOwned, NumberChildrenAtHome, TotalChildren, YearlyIncome]\n",
            "Index: []\n"
          ]
        }
      ]
    },
    {
      "cell_type": "code",
      "source": [
        "print(df_selected.head())\n"
      ],
      "metadata": {
        "colab": {
          "base_uri": "https://localhost:8080/"
        },
        "id": "ivTrMSRO-cSk",
        "outputId": "3cb1dba0-661a-4974-c4cd-c11705774fa4"
      },
      "execution_count": null,
      "outputs": [
        {
          "output_type": "stream",
          "name": "stdout",
          "text": [
            "Empty DataFrame\n",
            "Columns: [BirthDate, Education, Occupation, Gender, MaritalStatus, HomeOwnerFlag, NumberCarsOwned, NumberChildrenAtHome, TotalChildren, YearlyIncome]\n",
            "Index: []\n"
          ]
        }
      ]
    },
    {
      "cell_type": "code",
      "source": [],
      "metadata": {
        "id": "ju34DskPCNwo"
      },
      "execution_count": null,
      "outputs": []
    }
  ]
}